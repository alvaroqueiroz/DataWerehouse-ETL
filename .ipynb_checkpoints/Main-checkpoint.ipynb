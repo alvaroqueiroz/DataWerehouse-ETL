{
 "cells": [
  {
   "cell_type": "markdown",
   "metadata": {},
   "source": [
    "# Wirecard Data Challenge"
   ]
  },
  {
   "cell_type": "markdown",
   "metadata": {},
   "source": [
    "## Case 1: - Modelagem dimensional\n",
    "\n",
    "Um dos desafios é definir o modelo dimensional para a tarifação das contas na empresa. têm-se que efetuar consultas SQL em uma série de tabelas e considerando diversas regras para se conseguir obter a informação desejada. O primeiro desafio será definir um modelo dimensional que otimize o acesso a este tipo de informação.\n",
    "\n",
    "Além das informações sobre as taxas, através do modelo dimensional proposto deve-se ser capaz de acessar algumas informações detalhadas das contas (login, nome, etc.).\n",
    "\n",
    "#### Regras de Negócio\n",
    "\n",
    "Obrigatoriamente, deve-se aplicar duas taxas em todo e qualquer pagamento: uma taxa fixa (definida em reais); e uma taxa percentual, que deve ser aplicada com base no valor total do pagamento. Os valores dessas taxas podem variar de acordo com o modelo de precificação.\n",
    "\n",
    "Além dessas duas taxas, caso o cliente queira antecipar o valor que ele tem para receber, deve-se aplicar uma terceira taxa, a taxa de antecipação. Para esta taxa, as contas Moip são tarifadas de acordo com o modelo de precificação definido em contrato.\n",
    "\n",
    "Atualmente temos três modelos de precificação:\n",
    "\n",
    "    Modelo 1: Taxa percentual: aplicada de acordo com o tipo de pagamento.\n",
    "\n",
    "Taxa de antecipação: aplicar uma taxa fixa de 1,99% a.m. (juros compostos)\n",
    "\n",
    "    Modelo 2: Taxa percentual: aplicada de acordo com o tipo de pagamento e agrupamento de quantidade de parcelas.\n",
    "\n",
    "Taxa de antecipação: aplicar uma taxa percentual de acordo com o meio de pagamento. Portanto, cada meio de pagamento terá sua taxa específica. Caso um meio de pagamento não tenha uma taxa atrelada, devemos considerar a mesma taxa de antecipação utilizada pelo meio de pagamento Cartão de crédito.\n",
    "\n",
    "    Modelo 3:\n",
    "\n",
    "Taxa percentual: aplicada de acordo com o tipo de pagamento e quantidade de parcelas.\n",
    "\n",
    "Taxa de antecipação: aplicar uma taxa fixa de 2,89% a.m. (juros simples) sobre a quantidade de dias que serão antecipados.\n",
    "\n",
    "Além dos 3 modelos descritos acima, embora cada uma das contas Moip possua suas respectivas taxas, caso ela transacione (receba pagamentos) através de um channel, as taxas que serão aplicadas àquela conta serão as taxas do channel, desde que a conta não possua uma taxa negociada.\n",
    "\n",
    "Portanto, a precedência das taxas ocorre da seguinte forma (maior para menor prioridade): taxa da conta se houver negociação, taxa do channel e taxa da conta.\n",
    "\n",
    "Um channel também possui uma conta Moip. Portanto, as taxas do channel são definidas da mesma forma que as taxas de uma conta Moip comum. Ou seja, seguindo as mesmas regras descritas acima, com exceção de que um channel não pode transacionar por outro channel.\n",
    "\n",
    "## Modelo Dimensional\n",
    "\n",
    "Dadas as características desejadas, será implementado banco de dados com arquitetura estrela ( ou estrela de Kimball), esse é o modelo dimensional aconselhado para essas situações no livro The Data Warehouse Toolkit, 3rd Edition.\n",
    "\n",
    "O primeiro passo é avaliar qual processo será modelado em fatos. Na descrição do problema, logo no primeiro parágrafo pode-se identificar que o objetivo é modelar tarifação das contas na empresa.\n",
    "\n",
    "O segundo passo seria definir qual a granulidade desses dados, mas como não vemos dimensão de tempo no banco de dados operacional, essa etapa não será feita.\n",
    "\n",
    "Para identificar o que será fato e o que será dimensão, é melhor analisar o banco de dados operacional.\n",
    "\n",
    "#### Análise do banco de dados operacional\n",
    "\n",
    "Os dados de cada base de dados estão nos seguintes arquivos com formato CSV"
   ]
  },
  {
   "cell_type": "code",
   "execution_count": 1,
   "metadata": {},
   "outputs": [
    {
     "data": {
      "text/plain": [
       "['account.csv',\n",
       " 'accounts_channels.csv',\n",
       " 'account_fixed_table_fee.csv',\n",
       " 'account_payment_fee.csv',\n",
       " 'channel.csv',\n",
       " 'channel_fixed_table_fee.csv',\n",
       " 'fixed_table_fee.csv',\n",
       " 'member.csv',\n",
       " 'payment_form.csv',\n",
       " 'tax_applied_to_account.csv']"
      ]
     },
     "execution_count": 1,
     "metadata": {},
     "output_type": "execute_result"
    }
   ],
   "source": [
    "from os import listdir\n",
    "import os\n",
    "filenames = listdir(os.getcwd())\n",
    "[ filename for filename in filenames if filename.endswith( \".csv\" ) ]"
   ]
  },
  {
   "cell_type": "markdown",
   "metadata": {},
   "source": [
    "A partir da análise desses dados, pode-se construir o seguinte diagrama entidade-relação\n",
    "\n",
    "<img src=\"wirecard_opdb.jpeg\">\n",
    "\n",
    "nota: pode ser que algumas dessas relações de cardinalidade estejam equivocadas\n",
    "\n",
    "#### Fato: tarifação das contas na empresa\n",
    "\n",
    "Como pode-se notar, existem 4 tabelas com informação sobre o valor de tarifação. Precisamos organizar os dados nessas tabelas de forma que essas informações sejam acessadas de forma mais conveniente por analistas e executivos a fim de se facilitar a tomada de decisão e planejamento"
   ]
  },
  {
   "cell_type": "code",
   "execution_count": 2,
   "metadata": {},
   "outputs": [
    {
     "ename": "NameError",
     "evalue": "name 'pd' is not defined",
     "output_type": "error",
     "traceback": [
      "\u001b[1;31m---------------------------------------------------------------------------\u001b[0m",
      "\u001b[1;31mNameError\u001b[0m                                 Traceback (most recent call last)",
      "\u001b[1;32m<ipython-input-2-33b0a7d10cb6>\u001b[0m in \u001b[0;36m<module>\u001b[1;34m\u001b[0m\n\u001b[1;32m----> 1\u001b[1;33m \u001b[0mmemberDf\u001b[0m \u001b[1;33m=\u001b[0m  \u001b[0mpd\u001b[0m\u001b[1;33m.\u001b[0m\u001b[0mread_csv\u001b[0m\u001b[1;33m(\u001b[0m\u001b[1;34m'member.csv'\u001b[0m\u001b[1;33m,\u001b[0m \u001b[0msep\u001b[0m\u001b[1;33m=\u001b[0m\u001b[1;34m';'\u001b[0m\u001b[1;33m)\u001b[0m\u001b[1;33m\u001b[0m\u001b[1;33m\u001b[0m\u001b[0m\n\u001b[0m",
      "\u001b[1;31mNameError\u001b[0m: name 'pd' is not defined"
     ]
    }
   ],
   "source": [
    "memberDf =  pd.read_csv('member.csv', sep=';')"
   ]
  },
  {
   "cell_type": "code",
   "execution_count": null,
   "metadata": {},
   "outputs": [],
   "source": [
    "import os\n",
    " \n",
    "os.getcwd()"
   ]
  }
 ],
 "metadata": {
  "kernelspec": {
   "display_name": "Python 3",
   "language": "python",
   "name": "python3"
  },
  "language_info": {
   "codemirror_mode": {
    "name": "ipython",
    "version": 3
   },
   "file_extension": ".py",
   "mimetype": "text/x-python",
   "name": "python",
   "nbconvert_exporter": "python",
   "pygments_lexer": "ipython3",
   "version": "3.7.4"
  }
 },
 "nbformat": 4,
 "nbformat_minor": 2
}
